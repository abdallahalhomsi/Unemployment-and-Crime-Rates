{
 "cells": [
  {
   "cell_type": "markdown",
   "id": "9f2a4b13",
   "metadata": {},
   "source": [
    "# Hypothesis Testing\n",
    "\n",
    "## 1. Hypothesis Definition \n",
    "\n",
    "We aim to evaluate whether there's a meaningful linear relationship between the unemployment rate and crime rate in the US.\n",
    "\n",
    "- Null Hypothesis (H₀): There is no statistically significant correlation between unemployment rates and crime rates in the US.\n",
    "\n",
    "- Alternative Hypothesis (H₁): There is a statistically significant correlation between unemployment rates and crime rates in the US.\n",
    "\n",
    "This hypothesis will be tested using the Pearson correlation coefficient, focusing on both total crime rate and specific types of crime. If a significant correlation is found, it may guide the development of machine learning models to predict future crime trends based on unemployment levels.\n",
    "\n"
   ]
  },
  {
   "cell_type": "markdown",
   "id": "82a02527",
   "metadata": {},
   "source": [
    "## 2. Load Data\n",
    "\n",
    "As done in the EDA, we reloaded and merged the yearly unemployment and crime datasets into a single DataFrame. This allows us to analyze trends and perform statistical tests at the national level, aggregated by year.\n"
   ]
  },
  {
   "cell_type": "code",
   "execution_count": 1,
   "id": "8b3ac76e",
   "metadata": {},
   "outputs": [
    {
     "name": "stdout",
     "output_type": "stream",
     "text": [
      "Data Overview:\n",
      "   Year  UnemploymentRate  Data.Rates.Property.All  \\\n",
      "0  1960          5.541667              1606.868627   \n",
      "1  1961          6.691667              1619.341176   \n",
      "2  1962          5.566667              1694.633333   \n",
      "3  1963          5.641667              1826.776471   \n",
      "4  1964          5.158333              1990.215686   \n",
      "\n",
      "   Data.Rates.Property.Burglary  Data.Rates.Property.Larceny  \\\n",
      "0                    425.156863                  1016.752941   \n",
      "1                    438.960784                  1012.933333   \n",
      "2                    450.156863                  1064.111765   \n",
      "3                    493.837255                  1135.247059   \n",
      "4                    544.303922                  1230.288235   \n",
      "\n",
      "   Data.Rates.Property.Motor  Data.Rates.Violent.All  \\\n",
      "0                 164.954902              115.768627   \n",
      "1                 167.443137              113.776471   \n",
      "2                 180.364706              115.488235   \n",
      "3                 197.698039              121.809804   \n",
      "4                 215.617647              148.092157   \n",
      "\n",
      "   Data.Rates.Violent.Assault  Data.Rates.Violent.Murder  \\\n",
      "0                   64.027451                   5.223529   \n",
      "1                   62.835294                   4.805882   \n",
      "2                   64.043137                   4.503922   \n",
      "3                   68.186275                   4.552941   \n",
      "4                   88.327451                   4.790196   \n",
      "\n",
      "   Data.Rates.Violent.Rape  Data.Rates.Violent.Robbery  TotalCrimeRate  \n",
      "0                 8.074510                   38.445098     1722.637255  \n",
      "1                 7.711765                   38.419608     1733.117647  \n",
      "2                 7.931373                   39.021569     1810.121569  \n",
      "3                 7.882353                   41.184314     1948.586275  \n",
      "4                 9.739216                   45.249020     2138.307843  \n",
      "\n",
      "Data Info:\n",
      "<class 'pandas.core.frame.DataFrame'>\n",
      "RangeIndex: 60 entries, 0 to 59\n",
      "Data columns (total 12 columns):\n",
      " #   Column                        Non-Null Count  Dtype  \n",
      "---  ------                        --------------  -----  \n",
      " 0   Year                          60 non-null     int32  \n",
      " 1   UnemploymentRate              60 non-null     float64\n",
      " 2   Data.Rates.Property.All       60 non-null     float64\n",
      " 3   Data.Rates.Property.Burglary  60 non-null     float64\n",
      " 4   Data.Rates.Property.Larceny   60 non-null     float64\n",
      " 5   Data.Rates.Property.Motor     60 non-null     float64\n",
      " 6   Data.Rates.Violent.All        60 non-null     float64\n",
      " 7   Data.Rates.Violent.Assault    60 non-null     float64\n",
      " 8   Data.Rates.Violent.Murder     60 non-null     float64\n",
      " 9   Data.Rates.Violent.Rape       60 non-null     float64\n",
      " 10  Data.Rates.Violent.Robbery    60 non-null     float64\n",
      " 11  TotalCrimeRate                60 non-null     float64\n",
      "dtypes: float64(11), int32(1)\n",
      "memory usage: 5.5 KB\n",
      "None\n"
     ]
    }
   ],
   "source": [
    "import pandas as pd\n",
    "\n",
    "# Load raw datasets\n",
    "unemp_df = pd.read_csv(\"data/df_unemployment_rates.csv\")\n",
    "crime_df = pd.read_csv(\"data/state_crime.csv\")\n",
    "\n",
    "# Process Unemployment Data\n",
    "unemp_df['date'] = pd.to_datetime(unemp_df['date'], errors='coerce')\n",
    "unemp_df = unemp_df.dropna(subset=['date'])\n",
    "unemp_df['Year'] = unemp_df['date'].dt.year\n",
    "unemp_yearly = unemp_df.groupby('Year')['overall_rate'].mean().reset_index()\n",
    "unemp_yearly.rename(columns={'overall_rate': 'UnemploymentRate'}, inplace=True)\n",
    "\n",
    "# Process Crime Data\n",
    "crime_yearly = crime_df.groupby('Year')[\n",
    "    [\n",
    "        'Data.Rates.Property.All', 'Data.Rates.Property.Burglary', 'Data.Rates.Property.Larceny',\n",
    "        'Data.Rates.Property.Motor', 'Data.Rates.Violent.All', 'Data.Rates.Violent.Assault',\n",
    "        'Data.Rates.Violent.Murder', 'Data.Rates.Violent.Rape', 'Data.Rates.Violent.Robbery'\n",
    "    ]\n",
    "].mean().reset_index()\n",
    "\n",
    "# Create TotalCrimeRate column\n",
    "crime_yearly['TotalCrimeRate'] = (\n",
    "    crime_yearly['Data.Rates.Property.All'] + crime_yearly['Data.Rates.Violent.All']\n",
    ")\n",
    "\n",
    "# Merge unemployment and crime data on Year\n",
    "df = pd.merge(unemp_yearly, crime_yearly, on='Year')\n",
    "\n",
    "# Confirm structure\n",
    "print(\"Data Overview:\")\n",
    "print(df.head())\n",
    "print(\"\\nData Info:\")\n",
    "print(df.info())"
   ]
  },
  {
   "cell_type": "markdown",
   "id": "a3dd962a",
   "metadata": {},
   "source": [
    "## 3. Exploratory Visualization Before Testing\n",
    "\n",
    "Before applying the statistical test, it's important to visually explore the potential relationship between Unemployment Rate and Total Crime Rate which was also done in the EDA. This helps in assessing whether a linear correlation test like Pearson is appropriate.\n"
   ]
  },
  {
   "cell_type": "code",
   "execution_count": 2,
   "id": "899f418c",
   "metadata": {},
   "outputs": [
    {
     "data": {
      "image/png": "[encoded data removed]",
      "text/plain": [
       "<Figure size 800x500 with 1 Axes>"
      ]
     },
     "metadata": {},
     "output_type": "display_data"
    }
   ],
   "source": [
    "import matplotlib.pyplot as plt\n",
    "import seaborn as sns\n",
    "\n",
    "# Simple scatter to preview relationship\n",
    "plt.figure(figsize=(8, 5))\n",
    "sns.scatterplot(x=df['UnemploymentRate'], y=df['TotalCrimeRate'])\n",
    "plt.title(\"Unemployment Rate vs Total Crime Rate\")\n",
    "plt.xlabel(\"Unemployment Rate (%)\")\n",
    "plt.ylabel(\"Total Crime Rate (per 100,000)\")\n",
    "plt.grid(True)\n",
    "plt.tight_layout()\n",
    "plt.show()"
   ]
  },
  {
   "cell_type": "markdown",
   "id": "4071ebc1",
   "metadata": {},
   "source": [
    "## 4. Pearson Correlation Test (Statistical Test)\n",
    "\n",
    "We compute the Pearson correlation coefficient (r) and the associated p-value between:\n",
    "\n",
    "UnemploymentRate\n",
    "\n",
    "TotalCrimeRate (sum of violent and property crime rates per 100,000 population)\n",
    "\n",
    "Results:\n",
    "Pearson Correlation Coefficient (r): 0.2762\n",
    "\n",
    "p-value: 0.0327\n",
    "\n",
    "Degrees of Freedom (df): 58"
   ]
  },
  {
   "cell_type": "code",
   "execution_count": 3,
   "id": "86e22ed6",
   "metadata": {},
   "outputs": [
    {
     "name": "stdout",
     "output_type": "stream",
     "text": [
      "Pearson Correlation Coefficient (r): 0.2762\n",
      "p-value: 0.0327\n",
      "Degrees of Freedom: 58\n"
     ]
    }
   ],
   "source": [
    "from scipy.stats import pearsonr\n",
    "\n",
    "# Pearson test for unemployment vs total crime\n",
    "r, p_value = pearsonr(df['UnemploymentRate'], df['TotalCrimeRate'])\n",
    "n = df.shape[0]\n",
    "dfree = n - 2\n",
    "\n",
    "print(f\"Pearson Correlation Coefficient (r): {r:.4f}\")\n",
    "print(f\"p-value: {p_value:.4f}\")\n",
    "print(f\"Degrees of Freedom: {dfree}\")"
   ]
  },
  {
   "cell_type": "markdown",
   "id": "91599e65",
   "metadata": {},
   "source": [
    "## 5. Interpretation\n",
    "\n",
    "The positive correlation (r ≈ 0.28) suggests a weak but statistically significant linear relationship between unemployment and total crime rate.\n",
    "\n",
    "The p-value of 0.0327 is below the significance level of α = 0.05, so we reject the null hypothesis.\n",
    "\n",
    "This means that changes in unemployment rates are statistically associated with changes in crime rates over the years analyzed, although the strength of the relationship is modest.\n"
   ]
  }
 ],
 "metadata": {
  "kernelspec": {
   "display_name": "venv",
   "language": "python",
   "name": "python3"
  },
  "language_info": {
   "codemirror_mode": {
    "name": "ipython",
    "version": 3
   },
   "file_extension": ".py",
   "mimetype": "text/x-python",
   "name": "python",
   "nbconvert_exporter": "python",
   "pygments_lexer": "ipython3",
   "version": "3.9.6"
  }
 },
 "nbformat": 4,
 "nbformat_minor": 5
}
